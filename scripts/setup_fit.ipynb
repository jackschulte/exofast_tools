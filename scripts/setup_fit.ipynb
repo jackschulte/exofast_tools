{
 "cells": [
  {
   "cell_type": "code",
   "execution_count": null,
   "metadata": {},
   "outputs": [],
   "source": [
    "import astropy.units as u\n",
    "\n",
    "from generate_priors_TOI import grab_all_priors\n",
    "from RV_mini_pipeline import remake_rvfile"
   ]
  },
  {
   "cell_type": "code",
   "execution_count": null,
   "metadata": {},
   "outputs": [],
   "source": [
    "grab_all_priors('TOI-4773', outpath='/Users/jack/Research/meep2/toi4773/')"
   ]
  },
  {
   "cell_type": "code",
   "execution_count": null,
   "metadata": {},
   "outputs": [],
   "source": [
    "path = '/Users/jack/Research/meep2/toi6420/toi6420.rv'\n",
    "outpath = '/Users/jack/Research/meep2/toi6420/'\n",
    "\n",
    "with open('tres_password.txt', 'r') as file:\n",
    "    password = file.read().replace('\\n', '')\n",
    "\n",
    "remake_rvfile(path, u.m/u.s, output_filename=outpath+'toi6420.rv', download_rvs=True, username='schulte', password=password, ticid='143526233')"
   ]
  },
  {
   "cell_type": "code",
   "execution_count": null,
   "metadata": {},
   "outputs": [],
   "source": []
  }
 ],
 "metadata": {
  "kernelspec": {
   "display_name": "research",
   "language": "python",
   "name": "python3"
  },
  "language_info": {
   "codemirror_mode": {
    "name": "ipython",
    "version": 3
   },
   "file_extension": ".py",
   "mimetype": "text/x-python",
   "name": "python",
   "nbconvert_exporter": "python",
   "pygments_lexer": "ipython3",
   "version": "3.10.14"
  }
 },
 "nbformat": 4,
 "nbformat_minor": 2
}
