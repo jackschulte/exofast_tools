{
 "cells": [
  {
   "cell_type": "code",
   "execution_count": 6,
   "metadata": {},
   "outputs": [],
   "source": [
    "import astropy.units as u\n",
    "\n",
    "from generate_priors_TOI import grab_all_priors\n",
    "from RV_mini_pipeline import remake_rvfile\n",
    "from generate_supporting_files import *\n",
    "import sys\n",
    "sys.path.insert(0, '/Users/jack/Research/pipelines/exofast_tools/scripts/lightcurve_pipeline/')\n",
    "from lightcurve_pipeline import create_light_curve\n",
    "import pandas as pd\n",
    "import lightkurve as lk"
   ]
  },
  {
   "cell_type": "markdown",
   "metadata": {},
   "source": [
    "## System parameters"
   ]
  },
  {
   "cell_type": "code",
   "execution_count": 2,
   "metadata": {},
   "outputs": [],
   "source": [
    "toi = '3601'\n",
    "ticid = '191202679'\n",
    "rv_instrument = 'tres'\n",
    "outpath = f'/Users/jack/Research/meep3/fits/toi{toi}/'"
   ]
  },
  {
   "cell_type": "markdown",
   "metadata": {},
   "source": [
    "## Generating priors and SED\n",
    "Before running this cell, create a directory to store the fit files and generate the prior and SED files using mkticsed"
   ]
  },
  {
   "cell_type": "code",
   "execution_count": 3,
   "metadata": {},
   "outputs": [
    {
     "name": "stdout",
     "output_type": "stream",
     "text": [
      "Starting points:\n",
      "Tc = 2459879.372447\n",
      "Period = 4.0517972\n",
      "Rp/Rs = 0.07909487973314075\n",
      "Spectroscopic [Fe/H] prior: 0.2385 +/- 0.1073\n",
      "Dilution prior: 0.0 +/- 0.0013418\n"
     ]
    }
   ],
   "source": [
    "with open('tres_password.txt', 'r') as file:\n",
    "    password = file.read().replace('\\n', '')\n",
    "\n",
    "grab_all_priors(f'TOI-{toi}', outpath=outpath, source='tres', tres_username='schulte', tres_password=password)"
   ]
  },
  {
   "cell_type": "markdown",
   "metadata": {},
   "source": [
    "## Downloading and formatting RVs\n",
    "Ensure that the units and output filename are correct for the given instrument. Usually, CHIRON RVs are in km/s and TRES RVs are in m/s"
   ]
  },
  {
   "cell_type": "code",
   "execution_count": 4,
   "metadata": {},
   "outputs": [
    {
     "name": "stdout",
     "output_type": "stream",
     "text": [
      "Processed file:\n",
      "       Time (BJD)  RV (m/s)  RV error (m/s)\n",
      "0   2.459461e+06     720.8            52.6\n",
      "1   2.459471e+06     242.6            82.5\n",
      "2   2.460203e+06     668.4            51.3\n",
      "3   2.460205e+06     123.8            47.0\n",
      "4   2.460208e+06     150.8            42.3\n",
      "5   2.460209e+06      37.5            59.4\n",
      "6   2.460212e+06     332.6            44.7\n",
      "7   2.460213e+06      -0.2            43.5\n",
      "8   2.460217e+06     -49.4            40.3\n",
      "9   2.460219e+06     710.8            60.4\n",
      "10  2.460220e+06     175.8            50.3\n",
      "11  2.460222e+06     332.1            53.0\n",
      "12  2.460227e+06     557.8            36.8\n",
      "13  2.460228e+06     254.9            50.7\n"
     ]
    }
   ],
   "source": [
    "path = outpath + f'toi{toi}.TRES.rv'\n",
    "\n",
    "with open('tres_password.txt', 'r') as file:\n",
    "    password = file.read().replace('\\n', '')\n",
    "\n",
    "remake_rvfile(path, u.m/u.s, output_filename=outpath+f'{ticid}.TRES.rv', download_rvs=True, username='schulte', password=password, ticid=ticid, instrument=rv_instrument, verbose=True)"
   ]
  },
  {
   "cell_type": "markdown",
   "metadata": {},
   "source": [
    "## Downloading TESS lightcurves\n",
    "Run the first cell to see what lightcurves are available, and then modify and run the next cell to download the selected lightcurve. Make sure that you are downloading the highest cadence lightcurves available and that the data are of good quality.\n",
    "\n",
    "After running the initial EXOFAST fit, you can check for a secondary eclipse by re-running these cells with the correct parameters."
   ]
  },
  {
   "cell_type": "code",
   "execution_count": null,
   "metadata": {},
   "outputs": [],
   "source": [
    "lk.search_lightcurve(f'TIC {ticid}')"
   ]
  },
  {
   "cell_type": "code",
   "execution_count": null,
   "metadata": {},
   "outputs": [],
   "source": [
    "create_light_curve(f'TIC {ticid}', 'SPOC', 65, auto = True, exposure=120, targetname = f'TOI-{toi}', keep_secondary_eclipse=False,\n",
    "                   ecosw = -0.541, t14s = None, save = True, plot = True, planet='b', published = False, qualityFlag = False, #omit_transit_index=[4],\n",
    "                   outputfiles='slimflat')"
   ]
  },
  {
   "cell_type": "markdown",
   "metadata": {},
   "source": [
    "## Generating scripts to run the fit\n",
    "\n",
    "After collecting all lightcurves, change the exptimes array in the following cell and then run it to generate the final files."
   ]
  },
  {
   "cell_type": "code",
   "execution_count": 2,
   "metadata": {},
   "outputs": [],
   "source": [
    "outpath = f'/Users/jack/Research/meep3/fits/toi{toi}/'\n",
    "exptimes = [30, 30, 10, 10, 10, 2, 2]\n",
    "generate_pro_file(toi, ticid, exptimes, outpath=outpath)\n",
    "generate_SLURM_file(toi, outpath=outpath)"
   ]
  },
  {
   "cell_type": "code",
   "execution_count": null,
   "metadata": {},
   "outputs": [],
   "source": []
  }
 ],
 "metadata": {
  "kernelspec": {
   "display_name": "research",
   "language": "python",
   "name": "python3"
  },
  "language_info": {
   "codemirror_mode": {
    "name": "ipython",
    "version": 3
   },
   "file_extension": ".py",
   "mimetype": "text/x-python",
   "name": "python",
   "nbconvert_exporter": "python",
   "pygments_lexer": "ipython3",
   "version": "3.10.14"
  }
 },
 "nbformat": 4,
 "nbformat_minor": 2
}
