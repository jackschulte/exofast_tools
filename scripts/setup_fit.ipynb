{
 "cells": [
  {
   "cell_type": "code",
   "execution_count": 1,
   "metadata": {},
   "outputs": [],
   "source": [
    "import astropy.units as u\n",
    "\n",
    "from generate_priors_TOI import grab_all_priors\n",
    "from RV_mini_pipeline import remake_rvfile\n",
    "from generate_supporting_files import *"
   ]
  },
  {
   "cell_type": "code",
   "execution_count": 4,
   "metadata": {},
   "outputs": [
    {
     "name": "stdout",
     "output_type": "stream",
     "text": [
      "Starting points:\n",
      "Tc = 2459359.135206\n",
      "Period = 2.9599541\n",
      "Rp/Rs = 0.0847938677028003\n",
      "Spectroscopic [Fe/H] prior: -0.0087 +/- 0.1759\n",
      "Dilution prior: 0.0 +/- 0.016388\n"
     ]
    }
   ],
   "source": [
    "with open('tres_password.txt', 'r') as file:\n",
    "    password = file.read().replace('\\n', '')\n",
    "\n",
    "grab_all_priors('TOI-3041', outpath='/Users/jack/Research/meep3/fits/toi3041/', source='tres', tres_username='schulte', tres_password=password)"
   ]
  },
  {
   "cell_type": "code",
   "execution_count": 3,
   "metadata": {},
   "outputs": [
    {
     "name": "stdout",
     "output_type": "stream",
     "text": [
      "Processed file:\n",
      "       Time (BJD)  RV (m/s)  RV error (m/s)\n",
      "0   2.459511e+06   -1203.0            51.0\n",
      "1   2.459513e+06    -809.0            45.0\n",
      "2   2.459515e+06    -863.0            30.0\n",
      "3   2.459598e+06    -843.0            36.0\n",
      "4   2.459601e+06    -809.0            42.0\n",
      "5   2.459603e+06   -1129.0            32.0\n",
      "6   2.459604e+06    -775.0            43.0\n",
      "7   2.459606e+06   -1141.0            32.0\n",
      "8   2.459607e+06    -849.0            27.0\n",
      "9   2.459608e+06    -987.0            36.0\n",
      "10  2.459610e+06    -837.0            27.0\n",
      "11  2.459612e+06   -1109.0            22.0\n"
     ]
    }
   ],
   "source": [
    "path = '/Users/jack/Research/meep3/fits/toi3041/toi3041.TRES.rv'\n",
    "outpath = '/Users/jack/Research/meep3/fits/toi3041/'\n",
    "\n",
    "with open('tres_password.txt', 'r') as file:\n",
    "    password = file.read().replace('\\n', '')\n",
    "\n",
    "remake_rvfile(path, u.km/u.s, output_filename=outpath+'371864043.TRES.rv', download_rvs=True, username='schulte', password=password, ticid='371864043', instrument='chiron', verbose=True)"
   ]
  },
  {
   "cell_type": "code",
   "execution_count": 2,
   "metadata": {},
   "outputs": [],
   "source": [
    "outpath = '/Users/jack/Research/meep3/fits/toi3041/'\n",
    "exptimes = [30, 30, 10, 10, 10, 2, 2]\n",
    "generate_pro_file('3041', '371864043', exptimes, outpath=outpath)\n",
    "generate_SLURM_file('3041', outpath=outpath)"
   ]
  },
  {
   "cell_type": "code",
   "execution_count": null,
   "metadata": {},
   "outputs": [],
   "source": []
  }
 ],
 "metadata": {
  "kernelspec": {
   "display_name": "research",
   "language": "python",
   "name": "python3"
  },
  "language_info": {
   "codemirror_mode": {
    "name": "ipython",
    "version": 3
   },
   "file_extension": ".py",
   "mimetype": "text/x-python",
   "name": "python",
   "nbconvert_exporter": "python",
   "pygments_lexer": "ipython3",
   "version": "3.10.14"
  }
 },
 "nbformat": 4,
 "nbformat_minor": 2
}
